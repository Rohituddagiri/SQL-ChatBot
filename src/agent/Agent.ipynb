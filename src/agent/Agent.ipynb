{
 "cells": [
  {
   "cell_type": "code",
   "execution_count": 13,
   "metadata": {},
   "outputs": [],
   "source": [
    "import os\n",
    "\n",
    "from langchain.agents import create_sql_agent\n",
    "from langchain.agents.agent_toolkits import SQLDatabaseToolkit\n",
    "from langchain_community.utilities import SQLDatabase\n",
    "from langchain_openai import ChatOpenAI\n",
    "from langchain_core.prompts import PromptTemplate\n",
    "from langchain.agents.agent_types import AgentType"
   ]
  },
  {
   "cell_type": "code",
   "execution_count": 3,
   "metadata": {},
   "outputs": [],
   "source": [
    "OPENAI_KEY = os.getenv('OPENAI_API_KEY')"
   ]
  },
  {
   "cell_type": "code",
   "execution_count": null,
   "metadata": {},
   "outputs": [],
   "source": [
    "db_uri = os.getenv(\"DB_URI\")\n",
    "db = SQLDatabase.from_uri(db_uri)"
   ]
  },
  {
   "cell_type": "code",
   "execution_count": 6,
   "metadata": {},
   "outputs": [
    {
     "data": {
      "text/plain": [
       "'\\nCREATE TABLE `Album` (\\n\\t`AlbumId` INTEGER NOT NULL, \\n\\t`Title` VARCHAR(160) CHARACTER SET utf8mb3 COLLATE utf8mb3_general_ci NOT NULL, \\n\\t`ArtistId` INTEGER NOT NULL, \\n\\tPRIMARY KEY (`AlbumId`), \\n\\tCONSTRAINT `FK_AlbumArtistId` FOREIGN KEY(`ArtistId`) REFERENCES `Artist` (`ArtistId`)\\n)ENGINE=InnoDB DEFAULT CHARSET=utf8mb4 COLLATE utf8mb4_0900_ai_ci\\n\\n/*\\n3 rows from Album table:\\nAlbumId\\tTitle\\tArtistId\\n1\\tFor Those About To Rock We Salute You\\t1\\n2\\tBalls to the Wall\\t2\\n3\\tRestless and Wild\\t2\\n*/\\n\\n\\nCREATE TABLE `Artist` (\\n\\t`ArtistId` INTEGER NOT NULL, \\n\\t`Name` VARCHAR(120) CHARACTER SET utf8mb3 COLLATE utf8mb3_general_ci, \\n\\tPRIMARY KEY (`ArtistId`)\\n)ENGINE=InnoDB DEFAULT CHARSET=utf8mb4 COLLATE utf8mb4_0900_ai_ci\\n\\n/*\\n3 rows from Artist table:\\nArtistId\\tName\\n1\\tAC/DC\\n2\\tAccept\\n3\\tAerosmith\\n*/\\n\\n\\nCREATE TABLE `Customer` (\\n\\t`CustomerId` INTEGER NOT NULL, \\n\\t`FirstName` VARCHAR(40) CHARACTER SET utf8mb3 COLLATE utf8mb3_general_ci NOT NULL, \\n\\t`LastName` VARCHAR(20) CHARACTER SET utf8mb3 COLLATE utf8mb3_general_ci NOT NULL, \\n\\t`Company` VARCHAR(80) CHARACTER SET utf8mb3 COLLATE utf8mb3_general_ci, \\n\\t`Address` VARCHAR(70) CHARACTER SET utf8mb3 COLLATE utf8mb3_general_ci, \\n\\t`City` VARCHAR(40) CHARACTER SET utf8mb3 COLLATE utf8mb3_general_ci, \\n\\t`State` VARCHAR(40) CHARACTER SET utf8mb3 COLLATE utf8mb3_general_ci, \\n\\t`Country` VARCHAR(40) CHARACTER SET utf8mb3 COLLATE utf8mb3_general_ci, \\n\\t`PostalCode` VARCHAR(10) CHARACTER SET utf8mb3 COLLATE utf8mb3_general_ci, \\n\\t`Phone` VARCHAR(24) CHARACTER SET utf8mb3 COLLATE utf8mb3_general_ci, \\n\\t`Fax` VARCHAR(24) CHARACTER SET utf8mb3 COLLATE utf8mb3_general_ci, \\n\\t`Email` VARCHAR(60) CHARACTER SET utf8mb3 COLLATE utf8mb3_general_ci NOT NULL, \\n\\t`SupportRepId` INTEGER, \\n\\tPRIMARY KEY (`CustomerId`), \\n\\tCONSTRAINT `FK_CustomerSupportRepId` FOREIGN KEY(`SupportRepId`) REFERENCES `Employee` (`EmployeeId`)\\n)ENGINE=InnoDB DEFAULT CHARSET=utf8mb4 COLLATE utf8mb4_0900_ai_ci\\n\\n/*\\n3 rows from Customer table:\\nCustomerId\\tFirstName\\tLastName\\tCompany\\tAddress\\tCity\\tState\\tCountry\\tPostalCode\\tPhone\\tFax\\tEmail\\tSupportRepId\\n1\\tLuís\\tGonçalves\\tEmbraer - Empresa Brasileira de Aeronáutica S.A.\\tAv. Brigadeiro Faria Lima, 2170\\tSão José dos Campos\\tSP\\tBrazil\\t12227-000\\t+55 (12) 3923-5555\\t+55 (12) 3923-5566\\tluisg@embraer.com.br\\t3\\n2\\tLeonie\\tKöhler\\tNone\\tTheodor-Heuss-Straße 34\\tStuttgart\\tNone\\tGermany\\t70174\\t+49 0711 2842222\\tNone\\tleonekohler@surfeu.de\\t5\\n3\\tFrançois\\tTremblay\\tNone\\t1498 rue Bélanger\\tMontréal\\tQC\\tCanada\\tH2G 1A7\\t+1 (514) 721-4711\\tNone\\tftremblay@gmail.com\\t3\\n*/\\n\\n\\nCREATE TABLE `Employee` (\\n\\t`EmployeeId` INTEGER NOT NULL, \\n\\t`LastName` VARCHAR(20) CHARACTER SET utf8mb3 COLLATE utf8mb3_general_ci NOT NULL, \\n\\t`FirstName` VARCHAR(20) CHARACTER SET utf8mb3 COLLATE utf8mb3_general_ci NOT NULL, \\n\\t`Title` VARCHAR(30) CHARACTER SET utf8mb3 COLLATE utf8mb3_general_ci, \\n\\t`ReportsTo` INTEGER, \\n\\t`BirthDate` DATETIME, \\n\\t`HireDate` DATETIME, \\n\\t`Address` VARCHAR(70) CHARACTER SET utf8mb3 COLLATE utf8mb3_general_ci, \\n\\t`City` VARCHAR(40) CHARACTER SET utf8mb3 COLLATE utf8mb3_general_ci, \\n\\t`State` VARCHAR(40) CHARACTER SET utf8mb3 COLLATE utf8mb3_general_ci, \\n\\t`Country` VARCHAR(40) CHARACTER SET utf8mb3 COLLATE utf8mb3_general_ci, \\n\\t`PostalCode` VARCHAR(10) CHARACTER SET utf8mb3 COLLATE utf8mb3_general_ci, \\n\\t`Phone` VARCHAR(24) CHARACTER SET utf8mb3 COLLATE utf8mb3_general_ci, \\n\\t`Fax` VARCHAR(24) CHARACTER SET utf8mb3 COLLATE utf8mb3_general_ci, \\n\\t`Email` VARCHAR(60) CHARACTER SET utf8mb3 COLLATE utf8mb3_general_ci, \\n\\tPRIMARY KEY (`EmployeeId`), \\n\\tCONSTRAINT `FK_EmployeeReportsTo` FOREIGN KEY(`ReportsTo`) REFERENCES `Employee` (`EmployeeId`)\\n)ENGINE=InnoDB DEFAULT CHARSET=utf8mb4 COLLATE utf8mb4_0900_ai_ci\\n\\n/*\\n3 rows from Employee table:\\nEmployeeId\\tLastName\\tFirstName\\tTitle\\tReportsTo\\tBirthDate\\tHireDate\\tAddress\\tCity\\tState\\tCountry\\tPostalCode\\tPhone\\tFax\\tEmail\\n1\\tAdams\\tAndrew\\tGeneral Manager\\tNone\\t1962-02-18 00:00:00\\t2002-08-14 00:00:00\\t11120 Jasper Ave NW\\tEdmonton\\tAB\\tCanada\\tT5K 2N1\\t+1 (780) 428-9482\\t+1 (780) 428-3457\\tandrew@chinookcorp.com\\n2\\tEdwards\\tNancy\\tSales Manager\\t1\\t1958-12-08 00:00:00\\t2002-05-01 00:00:00\\t825 8 Ave SW\\tCalgary\\tAB\\tCanada\\tT2P 2T3\\t+1 (403) 262-3443\\t+1 (403) 262-3322\\tnancy@chinookcorp.com\\n3\\tPeacock\\tJane\\tSales Support Agent\\t2\\t1973-08-29 00:00:00\\t2002-04-01 00:00:00\\t1111 6 Ave SW\\tCalgary\\tAB\\tCanada\\tT2P 5M5\\t+1 (403) 262-3443\\t+1 (403) 262-6712\\tjane@chinookcorp.com\\n*/\\n\\n\\nCREATE TABLE `Genre` (\\n\\t`GenreId` INTEGER NOT NULL, \\n\\t`Name` VARCHAR(120) CHARACTER SET utf8mb3 COLLATE utf8mb3_general_ci, \\n\\tPRIMARY KEY (`GenreId`)\\n)ENGINE=InnoDB DEFAULT CHARSET=utf8mb4 COLLATE utf8mb4_0900_ai_ci\\n\\n/*\\n3 rows from Genre table:\\nGenreId\\tName\\n1\\tRock\\n2\\tJazz\\n3\\tMetal\\n*/\\n\\n\\nCREATE TABLE `InvoiceLine` (\\n\\t`InvoiceLineId` INTEGER NOT NULL, \\n\\t`InvoiceId` INTEGER NOT NULL, \\n\\t`TrackId` INTEGER NOT NULL, \\n\\t`UnitPrice` DECIMAL(10, 2) NOT NULL, \\n\\t`Quantity` INTEGER NOT NULL, \\n\\tPRIMARY KEY (`InvoiceLineId`), \\n\\tCONSTRAINT `FK_InvoiceLineInvoiceId` FOREIGN KEY(`InvoiceId`) REFERENCES `Invoice` (`InvoiceId`), \\n\\tCONSTRAINT `FK_InvoiceLineTrackId` FOREIGN KEY(`TrackId`) REFERENCES `Track` (`TrackId`)\\n)ENGINE=InnoDB DEFAULT CHARSET=utf8mb4 COLLATE utf8mb4_0900_ai_ci\\n\\n/*\\n3 rows from InvoiceLine table:\\nInvoiceLineId\\tInvoiceId\\tTrackId\\tUnitPrice\\tQuantity\\n1\\t1\\t2\\t0.99\\t1\\n2\\t1\\t4\\t0.99\\t1\\n3\\t2\\t6\\t0.99\\t1\\n*/\\n\\n\\nCREATE TABLE `Invoice` (\\n\\t`InvoiceId` INTEGER NOT NULL, \\n\\t`CustomerId` INTEGER NOT NULL, \\n\\t`InvoiceDate` DATETIME NOT NULL, \\n\\t`BillingAddress` VARCHAR(70) CHARACTER SET utf8mb3 COLLATE utf8mb3_general_ci, \\n\\t`BillingCity` VARCHAR(40) CHARACTER SET utf8mb3 COLLATE utf8mb3_general_ci, \\n\\t`BillingState` VARCHAR(40) CHARACTER SET utf8mb3 COLLATE utf8mb3_general_ci, \\n\\t`BillingCountry` VARCHAR(40) CHARACTER SET utf8mb3 COLLATE utf8mb3_general_ci, \\n\\t`BillingPostalCode` VARCHAR(10) CHARACTER SET utf8mb3 COLLATE utf8mb3_general_ci, \\n\\t`Total` DECIMAL(10, 2) NOT NULL, \\n\\tPRIMARY KEY (`InvoiceId`), \\n\\tCONSTRAINT `FK_InvoiceCustomerId` FOREIGN KEY(`CustomerId`) REFERENCES `Customer` (`CustomerId`)\\n)ENGINE=InnoDB DEFAULT CHARSET=utf8mb4 COLLATE utf8mb4_0900_ai_ci\\n\\n/*\\n3 rows from Invoice table:\\nInvoiceId\\tCustomerId\\tInvoiceDate\\tBillingAddress\\tBillingCity\\tBillingState\\tBillingCountry\\tBillingPostalCode\\tTotal\\n1\\t2\\t2009-01-01 00:00:00\\tTheodor-Heuss-Straße 34\\tStuttgart\\tNone\\tGermany\\t70174\\t1.98\\n2\\t4\\t2009-01-02 00:00:00\\tUllevålsveien 14\\tOslo\\tNone\\tNorway\\t0171\\t3.96\\n3\\t8\\t2009-01-03 00:00:00\\tGrétrystraat 63\\tBrussels\\tNone\\tBelgium\\t1000\\t5.94\\n*/\\n\\n\\nCREATE TABLE `MediaType` (\\n\\t`MediaTypeId` INTEGER NOT NULL, \\n\\t`Name` VARCHAR(120) CHARACTER SET utf8mb3 COLLATE utf8mb3_general_ci, \\n\\tPRIMARY KEY (`MediaTypeId`)\\n)ENGINE=InnoDB DEFAULT CHARSET=utf8mb4 COLLATE utf8mb4_0900_ai_ci\\n\\n/*\\n3 rows from MediaType table:\\nMediaTypeId\\tName\\n1\\tMPEG audio file\\n2\\tProtected AAC audio file\\n3\\tProtected MPEG-4 video file\\n*/\\n\\n\\nCREATE TABLE `PlaylistTrack` (\\n\\t`PlaylistId` INTEGER NOT NULL, \\n\\t`TrackId` INTEGER NOT NULL, \\n\\tPRIMARY KEY (`PlaylistId`, `TrackId`), \\n\\tCONSTRAINT `FK_PlaylistTrackPlaylistId` FOREIGN KEY(`PlaylistId`) REFERENCES `Playlist` (`PlaylistId`), \\n\\tCONSTRAINT `FK_PlaylistTrackTrackId` FOREIGN KEY(`TrackId`) REFERENCES `Track` (`TrackId`)\\n)ENGINE=InnoDB DEFAULT CHARSET=utf8mb4 COLLATE utf8mb4_0900_ai_ci\\n\\n/*\\n3 rows from PlaylistTrack table:\\nPlaylistId\\tTrackId\\n1\\t1\\n8\\t1\\n17\\t1\\n*/\\n\\n\\nCREATE TABLE `Playlist` (\\n\\t`PlaylistId` INTEGER NOT NULL, \\n\\t`Name` VARCHAR(120) CHARACTER SET utf8mb3 COLLATE utf8mb3_general_ci, \\n\\tPRIMARY KEY (`PlaylistId`)\\n)ENGINE=InnoDB DEFAULT CHARSET=utf8mb4 COLLATE utf8mb4_0900_ai_ci\\n\\n/*\\n3 rows from Playlist table:\\nPlaylistId\\tName\\n1\\tMusic\\n2\\tMovies\\n3\\tTV Shows\\n*/\\n\\n\\nCREATE TABLE `Track` (\\n\\t`TrackId` INTEGER NOT NULL, \\n\\t`Name` VARCHAR(200) CHARACTER SET utf8mb3 COLLATE utf8mb3_general_ci NOT NULL, \\n\\t`AlbumId` INTEGER, \\n\\t`MediaTypeId` INTEGER NOT NULL, \\n\\t`GenreId` INTEGER, \\n\\t`Composer` VARCHAR(220) CHARACTER SET utf8mb3 COLLATE utf8mb3_general_ci, \\n\\t`Milliseconds` INTEGER NOT NULL, \\n\\t`Bytes` INTEGER, \\n\\t`UnitPrice` DECIMAL(10, 2) NOT NULL, \\n\\tPRIMARY KEY (`TrackId`), \\n\\tCONSTRAINT `FK_TrackAlbumId` FOREIGN KEY(`AlbumId`) REFERENCES `Album` (`AlbumId`), \\n\\tCONSTRAINT `FK_TrackGenreId` FOREIGN KEY(`GenreId`) REFERENCES `Genre` (`GenreId`), \\n\\tCONSTRAINT `FK_TrackMediaTypeId` FOREIGN KEY(`MediaTypeId`) REFERENCES `MediaType` (`MediaTypeId`)\\n)ENGINE=InnoDB DEFAULT CHARSET=utf8mb4 COLLATE utf8mb4_0900_ai_ci\\n\\n/*\\n3 rows from Track table:\\nTrackId\\tName\\tAlbumId\\tMediaTypeId\\tGenreId\\tComposer\\tMilliseconds\\tBytes\\tUnitPrice\\n1\\tFor Those About To Rock (We Salute You)\\t1\\t1\\t1\\tAngus Young, Malcolm Young, Brian Johnson\\t343719\\t11170334\\t0.99\\n2\\tBalls to the Wall\\t2\\t2\\t1\\tNone\\t342562\\t5510424\\t0.99\\n3\\tFast As a Shark\\t3\\t2\\t1\\tF. Baltes, S. Kaufman, U. Dirkscneider & W. Hoffman\\t230619\\t3990994\\t0.99\\n*/'"
      ]
     },
     "execution_count": 6,
     "metadata": {},
     "output_type": "execute_result"
    }
   ],
   "source": [
    "db.get_table_info()"
   ]
  },
  {
   "cell_type": "code",
   "execution_count": 8,
   "metadata": {},
   "outputs": [],
   "source": [
    "llm = ChatOpenAI(\n",
    "    temperature = 0,\n",
    "    openai_api_key = OPENAI_KEY,\n",
    "    model_name = 'gpt-4o'\n",
    ")"
   ]
  },
  {
   "cell_type": "code",
   "execution_count": 9,
   "metadata": {},
   "outputs": [],
   "source": [
    "toolkit = SQLDatabaseToolkit(db=db, llm=llm)"
   ]
  },
  {
   "cell_type": "code",
   "execution_count": 10,
   "metadata": {},
   "outputs": [],
   "source": [
    "args = {\"return_intermediate_steps\" : True}"
   ]
  },
  {
   "cell_type": "code",
   "execution_count": 14,
   "metadata": {},
   "outputs": [],
   "source": [
    "template = \"\"\"\n",
    "    You are a data analyst at a company. You are interacting with a user who is asking you question about the company's database.\n",
    "    Based on the table schema, question, write a natural language response. Take the conversation history into account.\n",
    "    Conversation History: {chat_history}\n",
    "    \n",
    "    Answer the following questions as best you can. You have access to the following tools:\n",
    "\n",
    "    {tools}\n",
    "\n",
    "    Use the following format:\n",
    "\n",
    "    Question: the input question you must answer\n",
    "    Thought: you should always think about what to do\n",
    "    Action: the action to take, should be one of [{tool_names}]\n",
    "    Action Input: the input to the action\n",
    "    Observation: the result of the action\n",
    "    ... (this Thought/Action/Action Input/Observation can repeat N times)\n",
    "    Thought: I now know the final answer\n",
    "    Final Answer: the final answer to the original input question\n",
    "\n",
    "    Begin!\n",
    "\n",
    "    Question: {input}\n",
    "    Thought:{agent_scratchpad}\n",
    "    \"\"\"\n",
    "    \n",
    "prompt = PromptTemplate(\n",
    "        input_variables=[\"input\",\"chat_history\",\"tools\", \"tool_names\", \"agent_scratchpad\"],\n",
    "        template=template\n",
    "        )"
   ]
  },
  {
   "cell_type": "code",
   "execution_count": 15,
   "metadata": {},
   "outputs": [],
   "source": [
    "db_agent = create_sql_agent(\n",
    "    llm=llm,\n",
    "    toolkit=toolkit,\n",
    "    prompt=prompt,\n",
    "    verbose=True,\n",
    "    agent_type=AgentType.ZERO_SHOT_REACT_DESCRIPTION,\n",
    "    agent_executor_kwargs=args\n",
    ")\n",
    "db_agent.handle_parsing_errors = True"
   ]
  },
  {
   "cell_type": "code",
   "execution_count": 16,
   "metadata": {},
   "outputs": [
    {
     "name": "stdout",
     "output_type": "stream",
     "text": [
      "\n",
      "\n",
      "\u001b[1m> Entering new SQL Agent Executor chain...\u001b[0m\n",
      "\u001b[32;1m\u001b[1;3mTo determine how many artists we have, I first need to check the list of tables in the database to identify which table might contain artist information.\n",
      "\n",
      "Action: sql_db_list_tables\n",
      "Action Input: \"\"\u001b[0m\u001b[38;5;200m\u001b[1;3mAlbum, Artist, Customer, Employee, Genre, Invoice, InvoiceLine, MediaType, Playlist, PlaylistTrack, Track\u001b[0m\u001b[32;1m\u001b[1;3mThe table that likely contains information about artists is the \"Artist\" table. I will now check the schema of the \"Artist\" table to confirm this and then count the number of artists.\n",
      "\n",
      "Action: sql_db_schema\n",
      "Action Input: \"Artist\"\u001b[0m\u001b[33;1m\u001b[1;3m\n",
      "CREATE TABLE `Artist` (\n",
      "\t`ArtistId` INTEGER NOT NULL, \n",
      "\t`Name` VARCHAR(120) CHARACTER SET utf8mb3 COLLATE utf8mb3_general_ci, \n",
      "\tPRIMARY KEY (`ArtistId`)\n",
      ")ENGINE=InnoDB DEFAULT CHARSET=utf8mb4 COLLATE utf8mb4_0900_ai_ci\n",
      "\n",
      "/*\n",
      "3 rows from Artist table:\n",
      "ArtistId\tName\n",
      "1\tAC/DC\n",
      "2\tAccept\n",
      "3\tAerosmith\n",
      "*/\u001b[0m\u001b[32;1m\u001b[1;3mThe \"Artist\" table contains information about artists, with each artist having a unique \"ArtistId\". To find out how many artists we have, I need to count the number of entries in the \"Artist\" table.\n",
      "\n",
      "Action: sql_db_query_checker\n",
      "Action Input: \"SELECT COUNT(*) FROM Artist;\"\u001b[0m\u001b[36;1m\u001b[1;3m```sql\n",
      "SELECT COUNT(*) FROM Artist;\n",
      "```\u001b[0m\u001b[32;1m\u001b[1;3mThe query to count the number of artists in the \"Artist\" table is correct. I will now execute this query to get the result.\n",
      "\n",
      "Action: sql_db_query\n",
      "Action Input: \"SELECT COUNT(*) FROM Artist;\"\u001b[0m\u001b[36;1m\u001b[1;3m[(275,)]\u001b[0m\u001b[32;1m\u001b[1;3mI now know the final answer. \n",
      "\n",
      "Final Answer: We have 275 artists in our database.\u001b[0m\n",
      "\n",
      "\u001b[1m> Finished chain.\u001b[0m\n"
     ]
    }
   ],
   "source": [
    "# response = db_agent.invoke(\"how many artists do we have\")\n",
    "response = db_agent.invoke({\"input\": \"how many artists do we have\",\"chat_history\": []})"
   ]
  },
  {
   "cell_type": "code",
   "execution_count": 17,
   "metadata": {},
   "outputs": [
    {
     "data": {
      "text/plain": [
       "{'input': 'how many artists do we have',\n",
       " 'chat_history': [],\n",
       " 'output': 'We have 275 artists in our database.',\n",
       " 'intermediate_steps': [(AgentAction(tool='sql_db_list_tables', tool_input='', log='To determine how many artists we have, I first need to check the list of tables in the database to identify which table might contain artist information.\\n\\nAction: sql_db_list_tables\\nAction Input: \"\"'),\n",
       "   'Album, Artist, Customer, Employee, Genre, Invoice, InvoiceLine, MediaType, Playlist, PlaylistTrack, Track'),\n",
       "  (AgentAction(tool='sql_db_schema', tool_input='Artist', log='The table that likely contains information about artists is the \"Artist\" table. I will now check the schema of the \"Artist\" table to confirm this and then count the number of artists.\\n\\nAction: sql_db_schema\\nAction Input: \"Artist\"'),\n",
       "   '\\nCREATE TABLE `Artist` (\\n\\t`ArtistId` INTEGER NOT NULL, \\n\\t`Name` VARCHAR(120) CHARACTER SET utf8mb3 COLLATE utf8mb3_general_ci, \\n\\tPRIMARY KEY (`ArtistId`)\\n)ENGINE=InnoDB DEFAULT CHARSET=utf8mb4 COLLATE utf8mb4_0900_ai_ci\\n\\n/*\\n3 rows from Artist table:\\nArtistId\\tName\\n1\\tAC/DC\\n2\\tAccept\\n3\\tAerosmith\\n*/'),\n",
       "  (AgentAction(tool='sql_db_query_checker', tool_input='SELECT COUNT(*) FROM Artist;', log='The \"Artist\" table contains information about artists, with each artist having a unique \"ArtistId\". To find out how many artists we have, I need to count the number of entries in the \"Artist\" table.\\n\\nAction: sql_db_query_checker\\nAction Input: \"SELECT COUNT(*) FROM Artist;\"'),\n",
       "   '```sql\\nSELECT COUNT(*) FROM Artist;\\n```'),\n",
       "  (AgentAction(tool='sql_db_query', tool_input='SELECT COUNT(*) FROM Artist;', log='The query to count the number of artists in the \"Artist\" table is correct. I will now execute this query to get the result.\\n\\nAction: sql_db_query\\nAction Input: \"SELECT COUNT(*) FROM Artist;\"'),\n",
       "   '[(275,)]')]}"
      ]
     },
     "execution_count": 17,
     "metadata": {},
     "output_type": "execute_result"
    }
   ],
   "source": [
    "response"
   ]
  },
  {
   "cell_type": "code",
   "execution_count": 52,
   "metadata": {},
   "outputs": [
    {
     "data": {
      "text/plain": [
       "{'input': 'how many artists do we have',\n",
       " 'output': 'There are 275 artists in the database.',\n",
       " 'intermediate_steps': [(AgentAction(tool='sql_db_list_tables', tool_input='', log='Action: sql_db_list_tables\\nAction Input: \"\"'),\n",
       "   'Album, Artist, Customer, Employee, Genre, Invoice, InvoiceLine, MediaType, Playlist, PlaylistTrack, Track'),\n",
       "  (AgentAction(tool='sql_db_schema', tool_input='Artist', log='The \"Artist\" table seems to be the most relevant for finding out how many artists are in the database. I should check the schema of the \"Artist\" table to understand its structure and identify the relevant column to count the number of artists.\\n\\nAction: sql_db_schema\\nAction Input: Artist'),\n",
       "   '\\nCREATE TABLE `Artist` (\\n\\t`ArtistId` INTEGER NOT NULL, \\n\\t`Name` VARCHAR(120) CHARACTER SET utf8mb3 COLLATE utf8mb3_general_ci, \\n\\tPRIMARY KEY (`ArtistId`)\\n)COLLATE utf8mb4_0900_ai_ci ENGINE=InnoDB DEFAULT CHARSET=utf8mb4\\n\\n/*\\n3 rows from Artist table:\\nArtistId\\tName\\n1\\tAC/DC\\n2\\tAccept\\n3\\tAerosmith\\n*/'),\n",
       "  (AgentAction(tool='sql_db_query_checker', tool_input='SELECT COUNT(DISTINCT ArtistId) AS NumberOfArtists FROM Artist;', log='The \"Artist\" table contains the column \"ArtistId\" which can be used to count the number of artists. I will write a query to count the number of distinct \"ArtistId\" entries in the \"Artist\" table.\\n\\nAction: sql_db_query_checker\\nAction Input: \"SELECT COUNT(DISTINCT ArtistId) AS NumberOfArtists FROM Artist;\"'),\n",
       "   '```sql\\nSELECT COUNT(DISTINCT ArtistId) AS NumberOfArtists FROM Artist;\\n```'),\n",
       "  (AgentAction(tool='sql_db_query', tool_input='SELECT COUNT(DISTINCT ArtistId) AS NumberOfArtists FROM Artist;', log='The query is correct and ready to be executed to find the number of artists in the database.\\n\\nAction: sql_db_query\\nAction Input: \"SELECT COUNT(DISTINCT ArtistId) AS NumberOfArtists FROM Artist;\"'),\n",
       "   '[(275,)]')]}"
      ]
     },
     "execution_count": 52,
     "metadata": {},
     "output_type": "execute_result"
    }
   ],
   "source": [
    "response"
   ]
  },
  {
   "cell_type": "code",
   "execution_count": 47,
   "metadata": {},
   "outputs": [
    {
     "data": {
      "text/plain": [
       "'Action: sql_db_list_tables\\nAction Input: \"\" Album, Artist, Customer, Employee, Genre, Invoice, InvoiceLine, MediaType, Playlist, PlaylistTrack, Track'"
      ]
     },
     "execution_count": 47,
     "metadata": {},
     "output_type": "execute_result"
    }
   ],
   "source": [
    "response['intermediate_steps'][0][0].log + \" \" + response['intermediate_steps'][0][1]"
   ]
  },
  {
   "cell_type": "code",
   "execution_count": 51,
   "metadata": {},
   "outputs": [
    {
     "name": "stdout",
     "output_type": "stream",
     "text": [
      "Action: sql_db_list_tables\n",
      "Action Input: \"\" Album, Artist, Customer, Employee, Genre, Invoice, InvoiceLine, MediaType, Playlist, PlaylistTrack, Track\n",
      "The \"Artist\" table seems to be the most relevant for finding out how many artists are in the database. I should check the schema of the \"Artist\" table to understand its structure and identify the relevant column to count the number of artists.\n",
      "\n",
      "Action: sql_db_schema\n",
      "Action Input: Artist \n",
      "CREATE TABLE `Artist` (\n",
      "\t`ArtistId` INTEGER NOT NULL, \n",
      "\t`Name` VARCHAR(120) CHARACTER SET utf8mb3 COLLATE utf8mb3_general_ci, \n",
      "\tPRIMARY KEY (`ArtistId`)\n",
      ")COLLATE utf8mb4_0900_ai_ci ENGINE=InnoDB DEFAULT CHARSET=utf8mb4\n",
      "\n",
      "/*\n",
      "3 rows from Artist table:\n",
      "ArtistId\tName\n",
      "1\tAC/DC\n",
      "2\tAccept\n",
      "3\tAerosmith\n",
      "*/\n",
      "The \"Artist\" table contains the column \"ArtistId\" which can be used to count the number of artists. I will write a query to count the number of distinct \"ArtistId\" entries in the \"Artist\" table.\n",
      "\n",
      "Action: sql_db_query_checker\n",
      "Action Input: \"SELECT COUNT(DISTINCT ArtistId) AS NumberOfArtists FROM Artist;\" ```sql\n",
      "SELECT COUNT(DISTINCT ArtistId) AS NumberOfArtists FROM Artist;\n",
      "```\n",
      "The query is correct and ready to be executed to find the number of artists in the database.\n",
      "\n",
      "Action: sql_db_query\n",
      "Action Input: \"SELECT COUNT(DISTINCT ArtistId) AS NumberOfArtists FROM Artist;\" [(275,)]\n"
     ]
    }
   ],
   "source": [
    "for steps in response['intermediate_steps']:\n",
    "    # print((steps))\n",
    "    print(steps[0].log+\" \" + steps[1])\n",
    "    # thought_text = steps[0][0].log + \" \" + steps[0][1]\n",
    "    # print(thought_text)\n"
   ]
  },
  {
   "cell_type": "code",
   "execution_count": null,
   "metadata": {},
   "outputs": [],
   "source": []
  }
 ],
 "metadata": {
  "kernelspec": {
   "display_name": "chatSQLAgent",
   "language": "python",
   "name": "python3"
  },
  "language_info": {
   "codemirror_mode": {
    "name": "ipython",
    "version": 3
   },
   "file_extension": ".py",
   "mimetype": "text/x-python",
   "name": "python",
   "nbconvert_exporter": "python",
   "pygments_lexer": "ipython3",
   "version": "3.10.16"
  }
 },
 "nbformat": 4,
 "nbformat_minor": 2
}
